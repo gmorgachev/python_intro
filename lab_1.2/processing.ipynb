{
 "cells": [
  {
   "cell_type": "code",
   "execution_count": 1,
   "metadata": {},
   "outputs": [],
   "source": [
    "import pandas as pd\n",
    "import numpy as np\n",
    "import matplotlib.pyplot as plt"
   ]
  },
  {
   "cell_type": "code",
   "execution_count": 2,
   "metadata": {
    "collapsed": true
   },
   "outputs": [
    {
     "data": {
      "text/html": [
       "<div>\n",
       "<style scoped>\n",
       "    .dataframe tbody tr th:only-of-type {\n",
       "        vertical-align: middle;\n",
       "    }\n",
       "\n",
       "    .dataframe tbody tr th {\n",
       "        vertical-align: top;\n",
       "    }\n",
       "\n",
       "    .dataframe thead th {\n",
       "        text-align: right;\n",
       "    }\n",
       "</style>\n",
       "<table border=\"1\" class=\"dataframe\">\n",
       "  <thead>\n",
       "    <tr style=\"text-align: right;\">\n",
       "      <th></th>\n",
       "      <th>deg</th>\n",
       "      <th>N</th>\n",
       "    </tr>\n",
       "  </thead>\n",
       "  <tbody>\n",
       "    <tr>\n",
       "      <th>0</th>\n",
       "      <td>0.0</td>\n",
       "      <td>901</td>\n",
       "    </tr>\n",
       "    <tr>\n",
       "      <th>1</th>\n",
       "      <td>5.0</td>\n",
       "      <td>945</td>\n",
       "    </tr>\n",
       "    <tr>\n",
       "      <th>2</th>\n",
       "      <td>10.0</td>\n",
       "      <td>904</td>\n",
       "    </tr>\n",
       "    <tr>\n",
       "      <th>3</th>\n",
       "      <td>20.0</td>\n",
       "      <td>840</td>\n",
       "    </tr>\n",
       "    <tr>\n",
       "      <th>4</th>\n",
       "      <td>30.0</td>\n",
       "      <td>797</td>\n",
       "    </tr>\n",
       "    <tr>\n",
       "      <th>5</th>\n",
       "      <td>40.0</td>\n",
       "      <td>729</td>\n",
       "    </tr>\n",
       "    <tr>\n",
       "      <th>6</th>\n",
       "      <td>50.0</td>\n",
       "      <td>639</td>\n",
       "    </tr>\n",
       "    <tr>\n",
       "      <th>7</th>\n",
       "      <td>60.0</td>\n",
       "      <td>562</td>\n",
       "    </tr>\n",
       "    <tr>\n",
       "      <th>8</th>\n",
       "      <td>70.0</td>\n",
       "      <td>474</td>\n",
       "    </tr>\n",
       "    <tr>\n",
       "      <th>9</th>\n",
       "      <td>80.0</td>\n",
       "      <td>435</td>\n",
       "    </tr>\n",
       "    <tr>\n",
       "      <th>10</th>\n",
       "      <td>90.0</td>\n",
       "      <td>401</td>\n",
       "    </tr>\n",
       "    <tr>\n",
       "      <th>11</th>\n",
       "      <td>-5.0</td>\n",
       "      <td>906</td>\n",
       "    </tr>\n",
       "    <tr>\n",
       "      <th>12</th>\n",
       "      <td>5.0</td>\n",
       "      <td>959</td>\n",
       "    </tr>\n",
       "  </tbody>\n",
       "</table>\n",
       "</div>"
      ],
      "text/plain": [
       "     deg    N\n",
       "0    0.0  901\n",
       "1    5.0  945\n",
       "2   10.0  904\n",
       "3   20.0  840\n",
       "4   30.0  797\n",
       "5   40.0  729\n",
       "6   50.0  639\n",
       "7   60.0  562\n",
       "8   70.0  474\n",
       "9   80.0  435\n",
       "10  90.0  401\n",
       "11  -5.0  906\n",
       "12   5.0  959"
      ]
     },
     "execution_count": 2,
     "metadata": {},
     "output_type": "execute_result"
    }
   ],
   "source": [
    "data = pd.read_csv(\"data_1.2.csv\", names=[\"deg\", \"N\"])\n",
    "data"
   ]
  },
  {
   "cell_type": "code",
   "execution_count": 3,
   "metadata": {
    "collapsed": true
   },
   "outputs": [],
   "source": [
    "sigma_phi = 0.5 / 90 * np.pi / 2.\n",
    "sigma_N = 5.\n",
    "\n",
    "X = (1. - np.cos(data.deg / 90. * np.pi / 2)).values\n",
    "sigma_X = np.abs(np.sin(data.deg / 90.* np.pi / 2.) * sigma_phi).values\n",
    "Y = (1. / data.N).values\n",
    "sigma_Y = np.abs(1. / data.N**2. * sigma_N).values"
   ]
  },
  {
   "cell_type": "code",
   "execution_count": 4,
   "metadata": {},
   "outputs": [],
   "source": [
    "A = np.vstack([X, np.ones(len(X))]).T"
   ]
  },
  {
   "cell_type": "code",
   "execution_count": 5,
   "metadata": {},
   "outputs": [],
   "source": [
    "m, c = np.linalg.lstsq(A, Y, rcond=None)[0]"
   ]
  },
  {
   "cell_type": "code",
   "execution_count": 6,
   "metadata": {
    "collapsed": true
   },
   "outputs": [
    {
     "data": {
      "image/png": "[encoded data removed]",
      "text/plain": [
       "<Figure size 864x504 with 1 Axes>"
      ]
     },
     "metadata": {
      "needs_background": "light"
     },
     "output_type": "display_data"
    }
   ],
   "source": [
    "fig = plt.figure(figsize=(12, 7))\n",
    "ax = fig.gca()\n",
    "\n",
    "plt.scatter(X, Y * 10 ** 4, marker=\".\")\n",
    "plt.errorbar(X, Y * 10 ** 4, xerr=sigma_X, yerr=sigma_Y * 10 ** 4, linestyle=\"None\")\n",
    "delta_x = (X.max() - X.min()) / len(X)\n",
    "delta_y = (Y.max() - Y.min())  * 10 ** 4 / len(Y)\n",
    "\n",
    "ax.set_xlim(X.min() - delta_x/2, X.max() + delta_x/2)\n",
    "ax.set_ylim((Y.min() * 10 ** 4 - delta_y/2), Y.max() * 10 ** 4 + delta_y/2)\n",
    "# plt.title(\"$\\dfrac{1}{N(\\Theta)} = f(\\Theta)$\")\n",
    "plt.xlabel(\"$1-cos(\\Theta)$\")\n",
    "plt.ylabel(\"$\\dfrac{1}{N(\\Theta)} * 10^4$\")\n",
    "\n",
    "plt.plot(X, (m*X + c) * 10 ** 4, 'r', label='Fitted line')\n",
    "plt.grid(True)\n",
    "plt.savefig(\"graph_1.png\")"
   ]
  },
  {
   "cell_type": "code",
   "execution_count": 102,
   "metadata": {
    "collapsed": true
   },
   "outputs": [],
   "source": [
    "data[\"X\"] = X\n",
    "data[\"Y\"] = Y\n",
    "data[\"$\\sigma(X)$\"] = sigma_X\n",
    "data[\"$\\sigma(Y)$\"] = sigma_Y"
   ]
  },
  {
   "cell_type": "code",
   "execution_count": 103,
   "metadata": {},
   "outputs": [
    {
     "name": "stdout",
     "output_type": "stream",
     "text": [
      "\\begin{tabular}{lrrrrrr}\n",
      "\\toprule\n",
      "{} &   deg &    N &         X &         Y &  \\$\\textbackslash sigma(X)\\$ &  \\$\\textbackslash sigma(Y)\\$ \\\\\n",
      "\\midrule\n",
      "0  &   0.0 &  901 &  0.000000 &  0.001110 &     0.000000 &     0.000006 \\\\\n",
      "1  &   5.0 &  945 &  0.003805 &  0.001058 &     0.000761 &     0.000006 \\\\\n",
      "2  &  10.0 &  904 &  0.015192 &  0.001106 &     0.001515 &     0.000006 \\\\\n",
      "3  &  20.0 &  840 &  0.060307 &  0.001190 &     0.002985 &     0.000007 \\\\\n",
      "4  &  30.0 &  797 &  0.133975 &  0.001255 &     0.004363 &     0.000008 \\\\\n",
      "5  &  40.0 &  729 &  0.233956 &  0.001372 &     0.005609 &     0.000009 \\\\\n",
      "6  &  50.0 &  639 &  0.357212 &  0.001565 &     0.006685 &     0.000012 \\\\\n",
      "7  &  60.0 &  562 &  0.500000 &  0.001779 &     0.007557 &     0.000016 \\\\\n",
      "8  &  70.0 &  474 &  0.657980 &  0.002110 &     0.008200 &     0.000022 \\\\\n",
      "9  &  80.0 &  435 &  0.826352 &  0.002299 &     0.008594 &     0.000026 \\\\\n",
      "10 &  90.0 &  401 &  1.000000 &  0.002494 &     0.008727 &     0.000031 \\\\\n",
      "11 &  -5.0 &  906 &  0.003805 &  0.001104 &     0.000761 &     0.000006 \\\\\n",
      "12 &   5.0 &  959 &  0.003805 &  0.001043 &     0.000761 &     0.000005 \\\\\n",
      "\\bottomrule\n",
      "\\end{tabular}\n",
      "\n"
     ]
    }
   ],
   "source": [
    "print(data.to_latex())"
   ]
  },
  {
   "cell_type": "code",
   "execution_count": null,
   "metadata": {},
   "outputs": [],
   "source": []
  }
 ],
 "metadata": {
  "kernelspec": {
   "display_name": "Python 3",
   "language": "python",
   "name": "python3"
  },
  "language_info": {
   "codemirror_mode": {
    "name": "ipython",
    "version": 3
   },
   "file_extension": ".py",
   "mimetype": "text/x-python",
   "name": "python",
   "nbconvert_exporter": "python",
   "pygments_lexer": "ipython3",
   "version": "3.7.0"
  }
 },
 "nbformat": 4,
 "nbformat_minor": 2
}
