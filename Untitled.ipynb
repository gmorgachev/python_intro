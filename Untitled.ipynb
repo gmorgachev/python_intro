{
 "cells": [
  {
   "cell_type": "code",
   "execution_count": 81,
   "metadata": {},
   "outputs": [],
   "source": [
    "def simmetria (a, n):\n",
    "    num = 0\n",
    "    if n % 2 == 0:\n",
    "        i = n // 2\n",
    "    else:\n",
    "        i = n // 2 + 1\n",
    "\n",
    "    for k in range(i, n, 1):\n",
    "        print(\"idxs: \", k, n - 1 - k)\n",
    "        if a[k] != a[n - 1 - k]:\n",
    "            num += 1\n",
    "\n",
    "    if num != 0:\n",
    "        return (False)\n",
    "    else:\n",
    "        return (True)"
   ]
  },
  {
   "cell_type": "code",
   "execution_count": 86,
   "metadata": {},
   "outputs": [
    {
     "name": "stdout",
     "output_type": "stream",
     "text": [
      "idxs:  2 0\n"
     ]
    },
    {
     "data": {
      "text/plain": [
       "True"
      ]
     },
     "execution_count": 86,
     "metadata": {},
     "output_type": "execute_result"
    }
   ],
   "source": [
    "l = [1, 2, 1]\n",
    "simmetria(l, len(l))"
   ]
  },
  {
   "cell_type": "code",
   "execution_count": null,
   "metadata": {},
   "outputs": [],
   "source": []
  },
  {
   "cell_type": "code",
   "execution_count": null,
   "metadata": {},
   "outputs": [],
   "source": []
  },
  {
   "cell_type": "code",
   "execution_count": 58,
   "metadata": {},
   "outputs": [],
   "source": [
    "def simmetria (a, n):\n",
    "    num = 0\n",
    "    if n % 2 == 0:\n",
    "        i = n // 2\n",
    "    else:\n",
    "        i = n // 2 + 1\n",
    "\n",
    "    for k in range(i - 1, n - 1, 1):\n",
    "        if a[k] != a[n - 1 - k] and a[n - 1 - k] != a[k]:\n",
    "            num += 1\n",
    "\n",
    "    if num != 0:\n",
    "        return (False)\n",
    "    else:\n",
    "        return (True)"
   ]
  },
  {
   "cell_type": "code",
   "execution_count": 60,
   "metadata": {},
   "outputs": [],
   "source": [
    "def simmetria (a, n):\n",
    "    num = 0\n",
    "    if n % 2 == 0:\n",
    "        i = n // 2\n",
    "    else:\n",
    "        i = n // 2 + 1\n",
    "\n",
    "    for k in range(i - 1, n - 1, 1):\n",
    "        if a[k] != a[n - 1 - k] and a[n - 1 - k] != a[k]:\n",
    "            num += 1\n",
    "\n",
    "    if num != 0:\n",
    "        return (False)\n",
    "    else:\n",
    "        return (True)"
   ]
  },
  {
   "cell_type": "code",
   "execution_count": 66,
   "metadata": {},
   "outputs": [
    {
     "data": {
      "text/plain": [
       "True"
      ]
     },
     "execution_count": 66,
     "metadata": {},
     "output_type": "execute_result"
    }
   ],
   "source": [
    "simmetria([1, 2, 2], 3)"
   ]
  },
  {
   "cell_type": "code",
   "execution_count": null,
   "metadata": {},
   "outputs": [],
   "source": []
  }
 ],
 "metadata": {
  "kernelspec": {
   "display_name": "Python 3",
   "language": "python",
   "name": "python3"
  },
  "language_info": {
   "codemirror_mode": {
    "name": "ipython",
    "version": 3
   },
   "file_extension": ".py",
   "mimetype": "text/x-python",
   "name": "python",
   "nbconvert_exporter": "python",
   "pygments_lexer": "ipython3",
   "version": "3.7.3"
  }
 },
 "nbformat": 4,
 "nbformat_minor": 4
}
